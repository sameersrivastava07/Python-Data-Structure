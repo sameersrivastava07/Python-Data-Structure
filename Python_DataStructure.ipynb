{
  "nbformat": 4,
  "nbformat_minor": 0,
  "metadata": {
    "colab": {
      "provenance": []
    },
    "kernelspec": {
      "name": "python3",
      "display_name": "Python 3"
    },
    "language_info": {
      "name": "python"
    }
  },
  "cells": [
    {
      "cell_type": "code",
      "source": [
        "'''Question-1->>What are data structures, and why are they important?\n",
        "Answer-1->>Data Structure are the ways to organise and store data so that it can be accessed ,modified,and manipulated easily.\n",
        " They provide a way to manage large amount of data ,making it possible to perform operations such as sorting,searching and retreiving data quickly.\n",
        " IMPORTANCE:---->\n",
        "  1.Efficient data management:enables efficient storage,retrieval and manipulation of data\n",
        "  2.Improved algorithm performance:choose the right data structure and it will eventually affect the performance.\n",
        "  3.Scalability:help in handling large amount of data,helpful for big data essential\n",
        "  4.Problem Solving:helps in various fields like databases,network and artificial Intelligence.\n",
        "      For ex...List,sets,Arrays,Tuple etc.'''\n"
      ],
      "metadata": {
        "colab": {
          "base_uri": "https://localhost:8080/",
          "height": 105
        },
        "id": "SxRTw1qwvF1D",
        "outputId": "91d0ca16-855b-473f-ff9e-01026b1ffda9"
      },
      "execution_count": 156,
      "outputs": [
        {
          "output_type": "execute_result",
          "data": {
            "text/plain": [
              "'Question-1->>What are data structures, and why are they important? \\nAnswer-1->>Data Structure are the ways to organise and store data so that it can be accessed ,modified,and manipulated easily.\\n They provide a way to manage large amount of data ,making it possible to perform operations such as sorting,searching and retreiving data quickly. \\n IMPORTANCE:---->\\n  1.Efficient data management:enables efficient storage,retrieval and manipulation of data \\n  2.Improved algorithm performance:choose the right data structure and it will eventually affect the performance.\\n  3.Scalability:help in handling large amount of data,helpful for big data essential\\n  4.Problem Solving:helps in various fields like databases,network and artificial Intelligence. \\n      For ex...List,sets,Arrays,Tuple etc.'"
            ],
            "application/vnd.google.colaboratory.intrinsic+json": {
              "type": "string"
            }
          },
          "metadata": {},
          "execution_count": 156
        }
      ]
    },
    {
      "cell_type": "code",
      "source": [
        "'''Question-2-->>Explain the difference between mutable and immutable data types with examples?\n",
        "  Answer-2-->> MUTABLE DATA TYPES: --can be modified after creation.Generally slower and more memory intensive.\n",
        "                for example:Lists([]),Dictionaries({}),Sets({})\n",
        "          -->> IMMUTABLE DATA TYPES: --Cannot be modified after creation.Generally Faster and more memory efficient.\n",
        "                for example:Tuple(()),string(\"Arjun\")'''"
      ],
      "metadata": {
        "colab": {
          "base_uri": "https://localhost:8080/",
          "height": 70
        },
        "id": "atvYb7yQvv_Q",
        "outputId": "64a27823-fa47-4d1a-e1c5-d578cc362a9c"
      },
      "execution_count": 157,
      "outputs": [
        {
          "output_type": "execute_result",
          "data": {
            "text/plain": [
              "'Question-2-->>Explain the difference between mutable and immutable data types with examples?\\n  Answer-2-->> MUTABLE DATA TYPES: --can be modified after creation.Generally slower and more memory intensive.\\n                for example:Lists([]),Dictionaries({}),Sets({})\\n          -->> IMMUTABLE DATA TYPES: --Cannot be modified after creation.Generally Faster and more memory efficient.\\n                for example:Tuple(()),string(\"Arjun\")'"
            ],
            "application/vnd.google.colaboratory.intrinsic+json": {
              "type": "string"
            }
          },
          "metadata": {},
          "execution_count": 157
        }
      ]
    },
    {
      "cell_type": "code",
      "source": [
        "'''Question-3-->>What are the main differences between lists and tuples in Python?\n",
        "    Answer-3-->> a.) Lists are generally mutable whereas Tuples are immutable.\n",
        "                 b.)We use [](square bracket) to define list whereas ()(parenthesis) to define tuples.\n",
        "                 c.)Lists can be modified therefore dynamic data or user input are stored\n",
        "                 whereas tuples cant be modified thats why constant data that requires integrity are stored.\n",
        "                 d.)Lists are generally slower and more memory intensive due to immutability\n",
        "                 whereas Tuples are generally  faster and more memory efficient.'''"
      ],
      "metadata": {
        "colab": {
          "base_uri": "https://localhost:8080/",
          "height": 88
        },
        "id": "KDCvE1CExoVO",
        "outputId": "95ab0b03-0db6-4ae9-c0bc-6842e8e03854"
      },
      "execution_count": 158,
      "outputs": [
        {
          "output_type": "execute_result",
          "data": {
            "text/plain": [
              "'Question-3-->>What are the main differences between lists and tuples in Python?\\n    Answer-3-->> a.) Lists are generally mutable whereas Tuples are immutable.\\n                 b.)We use [](square bracket) to define list whereas ()(parenthesis) to define tuples.\\n                 c.)Lists can be modified therefore dynamic data or user input are stored \\n                 whereas tuples cant be modified thats why constant data that requires integrity are stored.\\n                 d.)Lists are generally slower and more memory intensive due to immutability \\n                 whereas Tuples are generally  faster and more memory efficient.'"
            ],
            "application/vnd.google.colaboratory.intrinsic+json": {
              "type": "string"
            }
          },
          "metadata": {},
          "execution_count": 158
        }
      ]
    },
    {
      "cell_type": "code",
      "source": [
        "'''Question-4-->>Describe how dictionaries store data?\n",
        "    Answer-4->Dictionaries store data as key-value pairs,allowing for efficient lookups,insertions, and deletions.\n",
        "        KEY----Unique Identifiers such as string ,integer,tuples,etc. THat maps the value.\n",
        "        Values---Data associated with the keys(and data type,strings,list,dictionaries,etc)'''\n",
        "        #for ex\n",
        "a = {\"name\":\"Sameer\",\"course\":(\"pwskills\",\"march\",25),\"address\":\"up\"}"
      ],
      "metadata": {
        "id": "s5RG8kwi0lhX"
      },
      "execution_count": 159,
      "outputs": []
    },
    {
      "cell_type": "code",
      "source": [
        "'''Question-5-->>Why might you use a set instead of a list in Python?\n",
        "Answer-5->In order to\n",
        "          a.) remove duplications\n",
        "          b.)set operations such as union,intersection,or difference.\n",
        "          c.)perform fast membership testing\n",
        "          d.)same order as we in input,is not required\n",
        "          we can use a set instead of list in python.'''"
      ],
      "metadata": {
        "colab": {
          "base_uri": "https://localhost:8080/",
          "height": 53
        },
        "id": "JuyF2tGW3caX",
        "outputId": "7ec87281-5d9a-4116-a705-a031fab7c3e1"
      },
      "execution_count": 160,
      "outputs": [
        {
          "output_type": "execute_result",
          "data": {
            "text/plain": [
              "'Question-5-->>Why might you use a set instead of a list in Python?\\nAnswer-5->In order to \\n          a.) remove duplications\\n          b.)set operations such as union,intersection,or difference.\\n          c.)perform fast membership testing\\n          d.)same order as we in input,is not required\\n          we can use a set instead of list in python.'"
            ],
            "application/vnd.google.colaboratory.intrinsic+json": {
              "type": "string"
            }
          },
          "metadata": {},
          "execution_count": 160
        }
      ]
    },
    {
      "cell_type": "code",
      "source": [
        "'''Question-6-->>What is a string in Python, and how is it different from a list?\n",
        "  Answer-6->> String-->\n",
        "                      A string is a sequence of characters, such as letters,or symbols,enclosed in quotes[single(gjgj),double(jbygryd) or triple(govind)]\n",
        "             Diference from Lists:\n",
        "                  a.)Strings are immutable whereas Lists are mutable.\n",
        "                  b.)String consist of character whereas list can store any data type.\n",
        "                  c.)Strings have specific methods for manipulation like split and join etc.  whereas for lists we use appennd,sort etc.'''\n",
        "              #Use strings for text data ,such as names,address,message,sentences etc but\n",
        "              #use lists for collections of data that need to be modified or to contain diiferent data types."
      ],
      "metadata": {
        "colab": {
          "base_uri": "https://localhost:8080/",
          "height": 88
        },
        "collapsed": true,
        "id": "aTRtcEXa5M5H",
        "outputId": "825bd77c-e538-450f-94bd-c282f0ec744c"
      },
      "execution_count": 161,
      "outputs": [
        {
          "output_type": "execute_result",
          "data": {
            "text/plain": [
              "'Question-6-->>What is a string in Python, and how is it different from a list?\\n  Answer-6->> String-->\\n                      A string is a sequence of characters, such as letters,or symbols,enclosed in quotes[single(gjgj),double(jbygryd) or triple(govind)]\\n             Diference from Lists:\\n                  a.)Strings are immutable whereas Lists are mutable.\\n                  b.)String consist of character whereas list can store any data type.\\n                  c.)Strings have specific methods for manipulation like split and join etc.  whereas for lists we use appennd,sort etc.'"
            ],
            "application/vnd.google.colaboratory.intrinsic+json": {
              "type": "string"
            }
          },
          "metadata": {},
          "execution_count": 161
        }
      ]
    },
    {
      "cell_type": "code",
      "source": [
        "'''Question-7-->>How do tuples ensure data integrity in Python?\n",
        "Answer--->Being an immutable data type,Tuples ensures data intrgrity,means they cant be modified after creation.\n",
        "          It prevents un intended changes,ensures consistency etc.'''"
      ],
      "metadata": {
        "colab": {
          "base_uri": "https://localhost:8080/",
          "height": 53
        },
        "id": "jdyfjtmV8NPW",
        "outputId": "c47c5258-99ee-4f01-eadd-f17fee6d7244"
      },
      "execution_count": 162,
      "outputs": [
        {
          "output_type": "execute_result",
          "data": {
            "text/plain": [
              "'Question-7-->>How do tuples ensure data integrity in Python?\\nAnswer--->Being an immutable data type,Tuples ensures data intrgrity,means they cant be modified after creation.\\n          It prevents un intended changes,ensures consistency etc.'"
            ],
            "application/vnd.google.colaboratory.intrinsic+json": {
              "type": "string"
            }
          },
          "metadata": {},
          "execution_count": 162
        }
      ]
    },
    {
      "cell_type": "code",
      "source": [
        "'''Question-8-->>What is a hash table, and how does it relate to dictionaries in Python?\n",
        "Answer-8-->Hash Table:\n",
        "A hash table (also known as a hash map) is a data structure that stores key-value pairs in an array using a hash function to map keys to indices.\n",
        "        Relation to Dictionaries in Python:\n",
        "            In Python, dictionaries are implemented using hash tables. This means:\n",
        "         a.) Fast Lookups: Dictionaries provide fast lookups, insertions, and deletions.\n",
        "         b.)Key-Value Pairs: Dictionaries store data as key-value pairs, just like hash tables.\n",
        "         C.)Hash table enables fast lookups,making  them suitable for large datasets.'''"
      ],
      "metadata": {
        "colab": {
          "base_uri": "https://localhost:8080/",
          "height": 88
        },
        "id": "wVOx_pkx9YBe",
        "outputId": "7fa2bf93-386e-44f9-b9a7-ffafc253bdf4"
      },
      "execution_count": 163,
      "outputs": [
        {
          "output_type": "execute_result",
          "data": {
            "text/plain": [
              "'Question-8-->>What is a hash table, and how does it relate to dictionaries in Python?\\nAnswer-8-->Hash Table:\\nA hash table (also known as a hash map) is a data structure that stores key-value pairs in an array using a hash function to map keys to indices.\\n        Relation to Dictionaries in Python:\\n            In Python, dictionaries are implemented using hash tables. This means:\\n         a.) Fast Lookups: Dictionaries provide fast lookups, insertions, and deletions.\\n         b.)Key-Value Pairs: Dictionaries store data as key-value pairs, just like hash tables.\\n         C.)Hash table enables fast lookups,making  them suitable for large datasets.'"
            ],
            "application/vnd.google.colaboratory.intrinsic+json": {
              "type": "string"
            }
          },
          "metadata": {},
          "execution_count": 163
        }
      ]
    },
    {
      "cell_type": "code",
      "source": [
        "'''Question-9-->> Can lists contain different data types in Python3\n",
        "  Answer-9--> Yes,list can contain different data types in python. such as\n",
        "     integes,floats,strings,complex no.,booleans,none,nested list,dictionaries,tuples.\n",
        "  This allows you to store data and manipulate diverse data in a single list.'''\n",
        "#for ex\n",
        "list1 = [\"rohan\",\"cat\",1,4,5.7,False,[{\"name\":\"sameer\",\"course\":\"pwskills\"},5+9j,True]]"
      ],
      "metadata": {
        "id": "EN7y1BhJ_qZL"
      },
      "execution_count": 164,
      "outputs": []
    },
    {
      "cell_type": "code",
      "source": [
        "'''Question-10-->>Explain why strings are immutable in Python?\n",
        "  Answer-10-->Strings are immutable in python due to:\n",
        "          a.)Security: Strings can not be changed unexpectedly reducing security risks.\n",
        "          b.)Hashability: due to this strings can be used as dictionsry keys ,as their hash value remains constant\n",
        "          c.)Performance:Immutability allows for efficient caching and optimizationss.'''"
      ],
      "metadata": {
        "colab": {
          "base_uri": "https://localhost:8080/",
          "height": 70
        },
        "id": "bin00ICBB8FV",
        "outputId": "07e13f49-745c-4ec5-cb0e-a32ff2f0c10f"
      },
      "execution_count": 165,
      "outputs": [
        {
          "output_type": "execute_result",
          "data": {
            "text/plain": [
              "'Question-10-->>Explain why strings are immutable in Python?\\n  Answer-10-->Strings are immutable in python due to:\\n          a.)Security: Strings can not be changed unexpectedly reducing security risks.\\n          b.)Hashability: due to this strings can be used as dictionsry keys ,as their hash value remains constant\\n          c.)Performance:Immutability allows for efficient caching and optimizationss.'"
            ],
            "application/vnd.google.colaboratory.intrinsic+json": {
              "type": "string"
            }
          },
          "metadata": {},
          "execution_count": 165
        }
      ]
    },
    {
      "cell_type": "code",
      "source": [
        "'''Question-11->>What advantages do dictionaries offer over lists for certain tasks?\n",
        "Answer-11->>Dictionaries offer several advantages over lists for certain tasks:\n",
        "      a.)Fast lookups--- provide fast lookups,insertions,and deletions,making them easier for large databases.\n",
        "      b.)key value pairs:---dictionaries stores data as a key value pair,allowing them for efficient retrievl and manipulation of data.\n",
        "      c.)Readibility:---dictionaries are more readable as it have meaningful keys instead of indices.\n",
        "      d.)Flexibility:--dictionaries can store complex data structure,such as nested dictionaries or lists.\n",
        "Dictionaries offers significant advantages over lists for certain task ,making them a powerful tool in python programming.'''"
      ],
      "metadata": {
        "colab": {
          "base_uri": "https://localhost:8080/",
          "height": 105
        },
        "id": "iIa61wfUEc4T",
        "outputId": "3a68f753-a7b0-4194-dea8-82af8282655c"
      },
      "execution_count": 166,
      "outputs": [
        {
          "output_type": "execute_result",
          "data": {
            "text/plain": [
              "'Question-11->>What advantages do dictionaries offer over lists for certain tasks?\\nAnswer-11->>Dictionaries offer several advantages over lists for certain tasks:\\n      a.)Fast lookups--- provide fast lookups,insertions,and deletions,making them easier for large databases.\\n      b.)key value pairs:---dictionaries stores data as a key value pair,allowing them for efficient retrievl and manipulation of data.\\n      c.)Readibility:---dictionaries are more readable as it have meaningful keys instead of indices.\\n      d.)Flexibility:--dictionaries can store complex data structure,such as nested dictionaries or lists.\\nDictionaries offers significant advantages over lists for certain task ,making them a powerful tool in python programming.'"
            ],
            "application/vnd.google.colaboratory.intrinsic+json": {
              "type": "string"
            }
          },
          "metadata": {},
          "execution_count": 166
        }
      ]
    },
    {
      "cell_type": "code",
      "source": [
        "'''Question-12-->>Describe a scenario where using a tuple would be preferable over a list?\n",
        "Answer-12-->We all know,Tuple is immutable whereas lists are mutable ..\n",
        "          When we want ---\n",
        "          a.)Constant Data--we want to save someone Aadhar card numer,employ i.d,Driving license number,etc...in that case tuple is required over lists.\n",
        "          b.)Dictionary keys---When we want any collection data as a key in dictionary,we cant use lists,it is must to use tuple.\n",
        "          c.)Data Integrity---When it is in need to ensure data integrity and prevent unintended changes.'''"
      ],
      "metadata": {
        "colab": {
          "base_uri": "https://localhost:8080/",
          "height": 88
        },
        "id": "3vvVaYfNIh_n",
        "outputId": "8f12d24d-7d23-4749-87fa-51b25da7d0bb"
      },
      "execution_count": 167,
      "outputs": [
        {
          "output_type": "execute_result",
          "data": {
            "text/plain": [
              "'Question-12-->>Describe a scenario where using a tuple would be preferable over a list?\\nAnswer-12-->We all know,Tuple is immutable whereas lists are mutable ..\\n          When we want ---\\n          a.)Constant Data--we want to save someone Aadhar card numer,employ i.d,Driving license number,etc...in that case tuple is required over lists.\\n          b.)Dictionary keys---When we want any collection data as a key in dictionary,we cant use lists,it is must to use tuple.\\n          c.)Data Integrity---When it is in need to ensure data integrity and prevent unintended changes.'"
            ],
            "application/vnd.google.colaboratory.intrinsic+json": {
              "type": "string"
            }
          },
          "metadata": {},
          "execution_count": 167
        }
      ]
    },
    {
      "cell_type": "code",
      "source": [
        "'''Question-13-->>How do sets handle duplicate values in Python?\n",
        "Answer--13-->Set stores unique and unordered collection of data.\n",
        "    Sets handles duplicate values in python by automtically removing them.'''"
      ],
      "metadata": {
        "colab": {
          "base_uri": "https://localhost:8080/",
          "height": 53
        },
        "id": "pJcEqiIoLeSt",
        "outputId": "18ae8f8f-785d-4ce9-ae78-7ac9e7906292"
      },
      "execution_count": 168,
      "outputs": [
        {
          "output_type": "execute_result",
          "data": {
            "text/plain": [
              "'Question-13-->>How do sets handle duplicate values in Python?\\nAnswer--13-->Set stores unique and unordered collection of data.\\n    Sets handles duplicate values in python by automtically removing them.'"
            ],
            "application/vnd.google.colaboratory.intrinsic+json": {
              "type": "string"
            }
          },
          "metadata": {},
          "execution_count": 168
        }
      ]
    },
    {
      "cell_type": "code",
      "source": [
        "'''Question-14-->>How does the “in” keyword work differently for lists and dictionaries?\n",
        "Answer--14---> ---IN use-->Lists checks values whereas dictionaries checks keys.\n",
        "                  Dictionaries lookups are generally faster due to hash-based search.'''\n",
        "list_3 = [\"aman\",\"pwskillss\",36,\"ayudh\"]\n",
        "print(\"ayudh\" in list_3)\n",
        "#ouptut--True\n",
        "dicti={\"name\":\"sunya\",\"address\":\"paharganj\",\"qualifications\":15}\n",
        "print(\"qualifications\" in dicti)\n",
        "#Output ---True"
      ],
      "metadata": {
        "colab": {
          "base_uri": "https://localhost:8080/"
        },
        "collapsed": true,
        "id": "cRtpuw4TMj8P",
        "outputId": "5799a661-d4e3-4394-9329-6b927a2be6db"
      },
      "execution_count": 169,
      "outputs": [
        {
          "output_type": "stream",
          "name": "stdout",
          "text": [
            "True\n",
            "True\n"
          ]
        }
      ]
    },
    {
      "cell_type": "code",
      "source": [
        "'''Question-15-->>Can you modify the elements of a tuple? Explain why or why not?\n",
        "Answer:--->Generally ,we can not modify the elements of a tuple.\n",
        "              Because Tuples are designed to be immutable means their contents cannot be changed or modified after creation.'''"
      ],
      "metadata": {
        "colab": {
          "base_uri": "https://localhost:8080/",
          "height": 53
        },
        "id": "GZ05_2EePZEP",
        "outputId": "fd296249-bda5-4345-eb95-9697a5d01dda"
      },
      "execution_count": 170,
      "outputs": [
        {
          "output_type": "execute_result",
          "data": {
            "text/plain": [
              "'Question-15-->>Can you modify the elements of a tuple? Explain why or why not?\\nAnswer:--->Generally ,we can not modify the elements of a tuple.\\n              Because Tuples are designed to be immutable means their contents cannot be changed or modified after creation.'"
            ],
            "application/vnd.google.colaboratory.intrinsic+json": {
              "type": "string"
            }
          },
          "metadata": {},
          "execution_count": 170
        }
      ]
    },
    {
      "cell_type": "code",
      "source": [
        "'''Question-16-->>What is a nested dictionary, and give an example of its use case?\n",
        "Answer:--->A nested dictionary is a dictionary that contains another dictionary as a value.'''\n",
        "#for ex\n",
        "f = {\"name\":\"sameer\",\"class\":3,\"address\":{\"street\":\"hg04\",\"city\":\"lokhpur\",\"country\":\"India\"}}\n",
        "print(f)\n",
        "# Use Case:\n",
        "'''Representing Complex data:Nested dictionaries provide a flexible structure for representing complex data.\n",
        "       Hierarchical Data: can represent hierarchical data ,such as a company's organizational structure or a file system'\n",
        "   for ex;\n",
        "We can give Employ id as a key and his information in detail in nested dictionary'''\n",
        "#for ex\n",
        "amcompany = {\"emp567\":{\"name\":\"rahul dhanvant\",\"branch\":\"data_management\",\"joining_date\":\"march132025\"}}\n",
        "print(amcompany)"
      ],
      "metadata": {
        "colab": {
          "base_uri": "https://localhost:8080/"
        },
        "collapsed": true,
        "id": "TJVodCfqQzfK",
        "outputId": "f6147c2e-3300-4110-81c2-af216dd83343"
      },
      "execution_count": 171,
      "outputs": [
        {
          "output_type": "stream",
          "name": "stdout",
          "text": [
            "{'name': 'sameer', 'class': 3, 'address': {'street': 'hg04', 'city': 'lokhpur', 'country': 'India'}}\n",
            "{'emp567': {'name': 'rahul dhanvant', 'branch': 'data_management', 'joining_date': 'march132025'}}\n"
          ]
        }
      ]
    },
    {
      "cell_type": "code",
      "source": [
        "'''Question-17-->>Describe the time complexity of accessing elements in a dictionary?\n",
        "Answer:---> The time complexity of accessing elements in a dictionary is typically 0(1),also known as constant time.\n",
        "   1.Hash-based Value:-- dictionaries use a hash based lookup mechanism,which allows for fast and efficient retrieval of elements.\n",
        "       *can handle large data sets efficiently.\n",
        "   2.Average Case:__In the average case ,dictionary lookups are very fast,with a constant time complexity.\n",
        "Worst case:---\n",
        "    In rare cases ,dictionaries lookups can have a time complexity of 0(n),where n is the number of elements in the dictionary.\n",
        "    This happens due to---\n",
        "    1.Hash collisions:\n",
        "                  multiple keys hash to the same index,leading to alinear search.\n",
        "    2.Poor hash functions:can lead to frequent collisions and reduced performance.'''\n"
      ],
      "metadata": {
        "colab": {
          "base_uri": "https://localhost:8080/",
          "height": 105
        },
        "id": "777uqinPYRlR",
        "outputId": "de6c3046-eb72-48e7-fe5d-c0f786c67f54"
      },
      "execution_count": 172,
      "outputs": [
        {
          "output_type": "execute_result",
          "data": {
            "text/plain": [
              "'Question-17-->>Describe the time complexity of accessing elements in a dictionary?\\nAnswer:---> The time complexity of accessing elements in a dictionary is typically 0(1),also known as constant time.\\n   1.Hash-based Value:-- dictionaries use a hash based lookup mechanism,which allows for fast and efficient retrieval of elements.\\n       *can handle large data sets efficiently.\\n   2.Average Case:__In the average case ,dictionary lookups are very fast,with a constant time complexity.\\nWorst case:---\\n    In rare cases ,dictionaries lookups can have a time complexity of 0(n),where n is the number of elements in the dictionary.\\n    This happens due to---\\n    1.Hash collisions:\\n                  multiple keys hash to the same index,leading to alinear search.\\n    2.Poor hash functions:can lead to frequent collisions and reduced performance.'"
            ],
            "application/vnd.google.colaboratory.intrinsic+json": {
              "type": "string"
            }
          },
          "metadata": {},
          "execution_count": 172
        }
      ]
    },
    {
      "cell_type": "code",
      "source": [
        "'''Question-18-->> In what situations are lists preferred over dictionaries?\n",
        "Answer-18-->Lists are preferred over dictionaries in the following situations:\n",
        "            a.)When the order of data is important.\n",
        "            b.)When we need to access elements by their indexes\n",
        "            c.)When we are working with simple,homogenous data.\n",
        "            d.)when we want to store simple collection of data without any specific key value pair relationship,lists are sufficient.'''\n",
        ""
      ],
      "metadata": {
        "colab": {
          "base_uri": "https://localhost:8080/",
          "height": 70
        },
        "id": "-9OQRgZLbZZR",
        "outputId": "d8e79322-c671-4326-e78c-d041fe19b09d"
      },
      "execution_count": 173,
      "outputs": [
        {
          "output_type": "execute_result",
          "data": {
            "text/plain": [
              "'Question-18-->> In what situations are lists preferred over dictionaries?\\nAnswer-18-->Lists are preferred over dictionaries in the following situations:\\n            a.)When the order of data is important.\\n            b.)When we need to access elements by their indexes\\n            c.)When we are working with simple,homogenous data.\\n            d.)when we want to store simple collection of data without any specific key value pair relationship,lists are sufficient.'"
            ],
            "application/vnd.google.colaboratory.intrinsic+json": {
              "type": "string"
            }
          },
          "metadata": {},
          "execution_count": 173
        }
      ]
    },
    {
      "cell_type": "code",
      "source": [
        "'''Question-19-->>Why are dictionaries considered unordered, and how does that affect data retrieval?\n",
        "Answer:--19->Dictionaries are unordered due to:\n",
        "              a.)Hash Based Storage--Dictionaries use a hash based storage mechanis,which doesnt inherently  preserves order.\n",
        "              b,)Efficient Lookups--The primary function of the dictionary is fast lookups,insertion,and deletions,rather than maintaining a specific order.\n",
        "Effect on data retrieval:--\n",
        "              a.) Dictionaries provide fast lookups regardless of order.\n",
        "              b.) As its not indexed ,thats why you cant access elements by their positions,\n",
        "              c.)We can access elements by using their keys.'''"
      ],
      "metadata": {
        "colab": {
          "base_uri": "https://localhost:8080/",
          "height": 88
        },
        "id": "82I_CYmwdbhJ",
        "outputId": "30ec5a0e-6c50-4728-a7fa-83fe26d9e9a6"
      },
      "execution_count": 174,
      "outputs": [
        {
          "output_type": "execute_result",
          "data": {
            "text/plain": [
              "'Question-19-->>Why are dictionaries considered unordered, and how does that affect data retrieval?\\nAnswer:--19->Dictionaries are unordered due to:\\n              a.)Hash Based Storage--Dictionaries use a hash based storage mechanis,which doesnt inherently  preserves order.\\n              b,)Efficient Lookups--The primary function of the dictionary is fast lookups,insertion,and deletions,rather than maintaining a specific order.\\nEffect on data retrieval:--\\n              a.) Dictionaries provide fast lookups regardless of order.\\n              b.) As its not indexed ,thats why you cant access elements by their positions,\\n              c.)We can access elements by using their keys.'"
            ],
            "application/vnd.google.colaboratory.intrinsic+json": {
              "type": "string"
            }
          },
          "metadata": {},
          "execution_count": 174
        }
      ]
    },
    {
      "cell_type": "code",
      "source": [
        "'''Question-20-->>Explain the difference between a list and a dictionary in terms of data retrieval?\n",
        "Answer--20-->Lists---\n",
        "                  a.) Index Based Access: In lists data are stored and can be accesses using indices (0,1,2,3,4) and from opposite indices are (-1,-2,-3,-4-,5,-6)\n",
        "                  b.)Ordered Access: elements are retrieved in the order they were inserted\n",
        "             Dictionaries--\n",
        "                  a.)Key Based Access: Dictionaries are accessed using keys.(from key value pair)\n",
        "                  b.)Unordered Access: Elements were not guaranteed to be in specific order.\n",
        "      *List uses indices whereas Dictionaries use keys.\n",
        "      *Lists Are Ordered whereas Dictionataries are unordered collection of data.'''"
      ],
      "metadata": {
        "colab": {
          "base_uri": "https://localhost:8080/",
          "height": 105
        },
        "id": "GCkOeAX7gDEw",
        "outputId": "da7b15f0-486b-4e09-dd29-748a7171b18e"
      },
      "execution_count": 175,
      "outputs": [
        {
          "output_type": "execute_result",
          "data": {
            "text/plain": [
              "'Question-20-->>Explain the difference between a list and a dictionary in terms of data retrieval?\\nAnswer--20-->Lists---\\n                  a.) Index Based Access: In lists data are stored and can be accesses using indices (0,1,2,3,4) and from opposite indices are (-1,-2,-3,-4-,5,-6)\\n                  b.)Ordered Access: elements are retrieved in the order they were inserted\\n             Dictionaries--\\n                  a.)Key Based Access: Dictionaries are accessed using keys.(from key value pair)\\n                  b.)Unordered Access: Elements were not guaranteed to be in specific order.\\n      *List uses indices whereas Dictionaries use keys.\\n      *Lists Are Ordered whereas Dictionataries are unordered collection of data.'"
            ],
            "application/vnd.google.colaboratory.intrinsic+json": {
              "type": "string"
            }
          },
          "metadata": {},
          "execution_count": 175
        }
      ]
    },
    {
      "cell_type": "markdown",
      "source": [
        "# PRACTICAL QUESTIONS:---"
      ],
      "metadata": {
        "id": "BWO8TAevjd6b"
      }
    },
    {
      "cell_type": "code",
      "source": [
        "#Question:1-->Write a code to create a string with your name and print it.\n",
        "#Answer1\n",
        "my_name = \"Sameer Srivastava\"\n",
        "print(my_name)"
      ],
      "metadata": {
        "colab": {
          "base_uri": "https://localhost:8080/"
        },
        "id": "pLu__yIoj9NK",
        "outputId": "09b385c3-1455-4259-f9e5-c0d46eec1598"
      },
      "execution_count": 176,
      "outputs": [
        {
          "output_type": "stream",
          "name": "stdout",
          "text": [
            "Sameer Srivastava\n"
          ]
        }
      ]
    },
    {
      "cell_type": "code",
      "source": [
        "# Question:2-->Write a code to find the length of the string \"Hello World\".\n",
        "#Answer 2-\n",
        "for_length = \"Hello World\"\n",
        "len(for_length)\n"
      ],
      "metadata": {
        "colab": {
          "base_uri": "https://localhost:8080/"
        },
        "id": "M3Xykm70kdxn",
        "outputId": "9e519ed6-3748-43b5-c17a-0e4a6d950a80"
      },
      "execution_count": 177,
      "outputs": [
        {
          "output_type": "execute_result",
          "data": {
            "text/plain": [
              "11"
            ]
          },
          "metadata": {},
          "execution_count": 177
        }
      ]
    },
    {
      "cell_type": "code",
      "source": [
        "#Question:3-->Write a code to slice the first 3 characters from the string \"Python Programming\"\n",
        "#Answer 3-\n",
        "slicei = \"Python Programming\"\n",
        "answer3 = slicei[:3]\n",
        "print(answer3)"
      ],
      "metadata": {
        "colab": {
          "base_uri": "https://localhost:8080/"
        },
        "id": "8g-6quDdlL1V",
        "outputId": "092c21ba-a83e-4537-85c0-d9f42793ad0f"
      },
      "execution_count": 178,
      "outputs": [
        {
          "output_type": "stream",
          "name": "stdout",
          "text": [
            "Pyt\n"
          ]
        }
      ]
    },
    {
      "cell_type": "code",
      "source": [
        "#Question:4-->Write a code to convert the string \"hello\" to uppercase.\n",
        "#Answer 4\n",
        "foruppercase = \"hello\"\n",
        "answer4 = foruppercase.upper()\n",
        "print(answer4)"
      ],
      "metadata": {
        "colab": {
          "base_uri": "https://localhost:8080/"
        },
        "id": "k25zcBSzmTGk",
        "outputId": "e6d26c92-28e3-4501-fef3-ae4623498d16"
      },
      "execution_count": 179,
      "outputs": [
        {
          "output_type": "stream",
          "name": "stdout",
          "text": [
            "HELLO\n"
          ]
        }
      ]
    },
    {
      "cell_type": "code",
      "source": [
        "#Question:5-->Write a code to replace the word \"apple\" with \"orange\" in the string \"I like apple\"\n",
        "#Answer5\n",
        "given = \"I like apple\"\n",
        "answer5 = given.replace(\"apple\",\"orange\")\n",
        "print(answer5)"
      ],
      "metadata": {
        "colab": {
          "base_uri": "https://localhost:8080/"
        },
        "id": "7GiH_RFznVXv",
        "outputId": "596578e7-9f07-4203-c013-35e0aa68fe5d"
      },
      "execution_count": 180,
      "outputs": [
        {
          "output_type": "stream",
          "name": "stdout",
          "text": [
            "I like orange\n"
          ]
        }
      ]
    },
    {
      "cell_type": "code",
      "source": [
        "#Question:6-->Write a code to create a list with numbers 1 to 5 and print it.\n",
        "#answer 6\n",
        "list6 = [1,2,3,4,5]\n",
        "print(list6)"
      ],
      "metadata": {
        "colab": {
          "base_uri": "https://localhost:8080/"
        },
        "id": "6sS_3tk9oMqB",
        "outputId": "865ffeae-3ca8-4338-f661-24ede671e871"
      },
      "execution_count": 181,
      "outputs": [
        {
          "output_type": "stream",
          "name": "stdout",
          "text": [
            "[1, 2, 3, 4, 5]\n"
          ]
        }
      ]
    },
    {
      "cell_type": "code",
      "source": [
        "#Question:7-->Write a code to append the number 10 to the list [1, 2, 3, 4]\n",
        "#Answer 7\n",
        "list7 = [1,2,3,4]\n",
        "list7.append(10)\n",
        "print(list7)"
      ],
      "metadata": {
        "colab": {
          "base_uri": "https://localhost:8080/"
        },
        "id": "V-3wZ9R3oy_Q",
        "outputId": "777af2c3-d5cc-4708-ec7c-710fdca11e4a"
      },
      "execution_count": 182,
      "outputs": [
        {
          "output_type": "stream",
          "name": "stdout",
          "text": [
            "[1, 2, 3, 4, 10]\n"
          ]
        }
      ]
    },
    {
      "cell_type": "code",
      "source": [
        "#Question:8-->Write a code to remove the number 3 from the list [1, 2, 3, 4, 5]\n",
        "#Answer 8\n",
        "list8 = [1,2,3,4,5]\n",
        "list8.remove(3)\n",
        "print(list8)"
      ],
      "metadata": {
        "colab": {
          "base_uri": "https://localhost:8080/"
        },
        "id": "GHfyvsa-p1wd",
        "outputId": "fc7f472c-42ae-47b7-d808-b0698b6c47a5"
      },
      "execution_count": 183,
      "outputs": [
        {
          "output_type": "stream",
          "name": "stdout",
          "text": [
            "[1, 2, 4, 5]\n"
          ]
        }
      ]
    },
    {
      "cell_type": "code",
      "source": [
        "#Question:9-->Write a code to access the second element in the list ['a', 'b', 'c', 'd']\n",
        "#Answer 9\n",
        "list9 = [\"a\",\"b\",\"c\",\"d\"]\n",
        "listnew9=list9[1] #indexing of a is 0 and b is 1\n",
        "print(listnew9)"
      ],
      "metadata": {
        "colab": {
          "base_uri": "https://localhost:8080/"
        },
        "collapsed": true,
        "id": "WYUjUIVeqV2l",
        "outputId": "af872f4a-0bc4-4215-9184-613dd2b19c75"
      },
      "execution_count": 184,
      "outputs": [
        {
          "output_type": "stream",
          "name": "stdout",
          "text": [
            "b\n"
          ]
        }
      ]
    },
    {
      "cell_type": "code",
      "source": [
        "#Question:10-->Write a code to reverse the list [10, 20, 30, 40, 50].\n",
        "#Answer 10\n",
        "list10 = [10,20,30,40,50]\n",
        "list10.reverse()\n",
        "print(list10)"
      ],
      "metadata": {
        "colab": {
          "base_uri": "https://localhost:8080/"
        },
        "id": "QqIpdwdkrkOl",
        "outputId": "52cef781-f86c-4171-c666-c5730060102f"
      },
      "execution_count": 185,
      "outputs": [
        {
          "output_type": "stream",
          "name": "stdout",
          "text": [
            "[50, 40, 30, 20, 10]\n"
          ]
        }
      ]
    },
    {
      "cell_type": "code",
      "source": [
        "#Question:11-->Write a code to create a tuple with the elements 100, 200, 300 and print it.\n",
        "#Answer 11\n",
        "tuple11 = (100,200,300)\n",
        "print(tuple11)"
      ],
      "metadata": {
        "colab": {
          "base_uri": "https://localhost:8080/"
        },
        "id": "o7Bt9CBrsqq6",
        "outputId": "6f1c67fe-23ee-4674-b9ac-97d0cda4d038"
      },
      "execution_count": 186,
      "outputs": [
        {
          "output_type": "stream",
          "name": "stdout",
          "text": [
            "(100, 200, 300)\n"
          ]
        }
      ]
    },
    {
      "cell_type": "code",
      "source": [
        "#Question:12--> Write a code to access the second-to-last element of the tuple ('red', 'green', 'blue', 'yellow')\n",
        "#Answer:12\n",
        "tuple12 = (\"red\",\"green\",\"blue\",\"yellow\")\n",
        "tuplenew12 = tuple12[-2]\n",
        "print(tuplenew12)"
      ],
      "metadata": {
        "colab": {
          "base_uri": "https://localhost:8080/"
        },
        "id": "onu5brFQtE3X",
        "outputId": "92d5427e-9851-49c4-d794-d88028f08984"
      },
      "execution_count": 187,
      "outputs": [
        {
          "output_type": "stream",
          "name": "stdout",
          "text": [
            "blue\n"
          ]
        }
      ]
    },
    {
      "cell_type": "code",
      "source": [
        "#Question:13-->Write a code to find the minimum number in the tuple (10, 20, 5, 15).\n",
        "#Answer-13\n",
        "tuple13 = (10,20,5,15)\n",
        "tuplenew13 = min(tuple13)\n",
        "print(tuplenew13)\n"
      ],
      "metadata": {
        "colab": {
          "base_uri": "https://localhost:8080/"
        },
        "id": "ikSkw3tMt-hQ",
        "outputId": "4ad58519-343d-4638-da05-4eb27540e7d0"
      },
      "execution_count": 188,
      "outputs": [
        {
          "output_type": "stream",
          "name": "stdout",
          "text": [
            "5\n"
          ]
        }
      ]
    },
    {
      "cell_type": "code",
      "source": [
        "#Question-14-->> Write a code to find the index of the element \"cat\" in the tuple ('dog', 'cat', 'rabbit').\n",
        "#Answer 14\n",
        "tuple14 = (\"dog\",\"cat\",\"rabbit\")\n",
        "index14 = tuple14.index(\"cat\")\n",
        "print(index14)"
      ],
      "metadata": {
        "colab": {
          "base_uri": "https://localhost:8080/"
        },
        "id": "PqGtFVn6uwPF",
        "outputId": "194d5eee-ae3c-49b9-b5f1-d42d924cde3f"
      },
      "execution_count": 189,
      "outputs": [
        {
          "output_type": "stream",
          "name": "stdout",
          "text": [
            "1\n"
          ]
        }
      ]
    },
    {
      "cell_type": "code",
      "source": [
        "#Question-15-->> Write a code to create a tuple containing three different fruits and check if \"kiwi\" is in it.\n",
        "#Answer 15\n",
        "fruits15 = (\"mango\",\"pineapple\",\"kiwi\")\n",
        "print(\"kiwi\" in fruits15)\n",
        "#output will be True if kiwi is there in the tuple"
      ],
      "metadata": {
        "colab": {
          "base_uri": "https://localhost:8080/"
        },
        "id": "2xzAMmuXvwrz",
        "outputId": "dec8dcc7-bef1-4032-d7df-03a86ccc3006"
      },
      "execution_count": 190,
      "outputs": [
        {
          "output_type": "stream",
          "name": "stdout",
          "text": [
            "True\n"
          ]
        }
      ]
    },
    {
      "cell_type": "code",
      "source": [
        "#Question-16--> Write a code to create a set with the elements 'a', 'b', 'c' and print it.\n",
        "#Answer 16\n",
        "set16 = {\"a\",\"b\",\"c\"}\n",
        "print(set16)"
      ],
      "metadata": {
        "colab": {
          "base_uri": "https://localhost:8080/"
        },
        "id": "2K6tiaZ6xHLt",
        "outputId": "9521d231-9daf-4927-87a0-01376b3bbd62"
      },
      "execution_count": 191,
      "outputs": [
        {
          "output_type": "stream",
          "name": "stdout",
          "text": [
            "{'a', 'c', 'b'}\n"
          ]
        }
      ]
    },
    {
      "cell_type": "code",
      "source": [
        "#Question-17-->> Write a code to clear all elements from the set {1, 2, 3, 4, 5}.\n",
        "#Answer 17\n",
        "set17={1,2,3,4,5}\n",
        "setnew17 = set17.clear()\n",
        "print(set17)"
      ],
      "metadata": {
        "colab": {
          "base_uri": "https://localhost:8080/"
        },
        "id": "euD8xC_gxqnS",
        "outputId": "7fe9bc2d-1553-49dc-985a-13b271dd42c3"
      },
      "execution_count": 192,
      "outputs": [
        {
          "output_type": "stream",
          "name": "stdout",
          "text": [
            "set()\n"
          ]
        }
      ]
    },
    {
      "cell_type": "code",
      "source": [
        "#Question-18-->> Write a code to remove the element 4 from the set {1, 2, 3, 4}.\n",
        "#Answer-18\n",
        "set18 = {1,2,3,4}\n",
        "setnew18 = set18.remove(4)\n",
        "print(set18)"
      ],
      "metadata": {
        "colab": {
          "base_uri": "https://localhost:8080/"
        },
        "id": "EYlIS4WyyeR3",
        "outputId": "3b9ecbb0-14a9-451f-acb8-6aa6c6adc125"
      },
      "execution_count": 193,
      "outputs": [
        {
          "output_type": "stream",
          "name": "stdout",
          "text": [
            "{1, 2, 3}\n"
          ]
        }
      ]
    },
    {
      "cell_type": "code",
      "source": [
        "#Question-19-->> Write a code to find the union of two sets {1, 2, 3} and {3, 4, 5}.\n",
        "#Answer 19\n",
        "set19a ={1,2,3}\n",
        "set19b = {3,4,5}\n",
        "union_set19 = set19a.union(set19b)\n",
        "print(union_set19)"
      ],
      "metadata": {
        "colab": {
          "base_uri": "https://localhost:8080/"
        },
        "id": "7w61-waezIow",
        "outputId": "8f150b7f-27cc-404c-b087-54704d4cb86f"
      },
      "execution_count": 194,
      "outputs": [
        {
          "output_type": "stream",
          "name": "stdout",
          "text": [
            "{1, 2, 3, 4, 5}\n"
          ]
        }
      ]
    },
    {
      "cell_type": "code",
      "source": [
        "#Question--20->Write a code to find the intersection of two sets {1, 2, 3} and {2, 3, 4}.\n",
        "set20a = {1,2,3}\n",
        "set20b = {2,3,4}\n",
        "intersection_set = set20a.intersection(set20b)\n",
        "print(intersection_set)"
      ],
      "metadata": {
        "colab": {
          "base_uri": "https://localhost:8080/"
        },
        "id": "xxo3Lzq1z-30",
        "outputId": "8500e0a7-5c7a-48db-a19d-ebdd255e110d"
      },
      "execution_count": 195,
      "outputs": [
        {
          "output_type": "stream",
          "name": "stdout",
          "text": [
            "{2, 3}\n"
          ]
        }
      ]
    },
    {
      "cell_type": "code",
      "source": [
        "#Question--21-> Write a code to create a dictionary with the keys \"name\", \"age\", and \"city\", and print it.\n",
        "#Answer 21\n",
        "dict21 = {\"name\":\"Sameer Srivastava\",\"age\":21,\"city\":\"lucknow\"}\n",
        "print(dict21)"
      ],
      "metadata": {
        "colab": {
          "base_uri": "https://localhost:8080/"
        },
        "id": "oVQHREHU0ucp",
        "outputId": "4c7993a5-4a70-46e9-bf84-ab2986cf01f7"
      },
      "execution_count": 196,
      "outputs": [
        {
          "output_type": "stream",
          "name": "stdout",
          "text": [
            "{'name': 'Sameer Srivastava', 'age': 21, 'city': 'lucknow'}\n"
          ]
        }
      ]
    },
    {
      "cell_type": "code",
      "source": [
        "#Question-22->Write a code to add a new key-value pair \"country\": \"USA\" to the dictionary {'name': 'John', 'age': 25}\n",
        "#Answer 22\n",
        "dict22 = {\"name\":\"John\",\"age\":25}\n",
        "dict22[\"country\"]=\"USA\"\n",
        "print(dict22)"
      ],
      "metadata": {
        "colab": {
          "base_uri": "https://localhost:8080/"
        },
        "id": "34fQF4im1iXr",
        "outputId": "bb05e0fb-75c1-444d-fc27-03a7f48d534b"
      },
      "execution_count": 197,
      "outputs": [
        {
          "output_type": "stream",
          "name": "stdout",
          "text": [
            "{'name': 'John', 'age': 25, 'country': 'USA'}\n"
          ]
        }
      ]
    },
    {
      "cell_type": "code",
      "source": [
        "#Question--23->Write a code to access the value associated with the key \"name\" in the dictionary {'name': 'Alice', 'age': 30}.\n",
        "#Answer-23\n",
        "dict23 = {\"name\":\"Alice\",\"age\":30}\n",
        "dict23[\"name\"]"
      ],
      "metadata": {
        "colab": {
          "base_uri": "https://localhost:8080/",
          "height": 36
        },
        "id": "Msk3uqAX2WiH",
        "outputId": "645eccdb-6f62-4172-a2f6-0273a07e9ed1"
      },
      "execution_count": 198,
      "outputs": [
        {
          "output_type": "execute_result",
          "data": {
            "text/plain": [
              "'Alice'"
            ],
            "application/vnd.google.colaboratory.intrinsic+json": {
              "type": "string"
            }
          },
          "metadata": {},
          "execution_count": 198
        }
      ]
    },
    {
      "cell_type": "code",
      "source": [
        "#Question--24-->Write a code to remove the key \"age\" from the dictionary {'name': 'Bob', 'age': 22, 'city': 'New York'}\n",
        "#Answer -24\n",
        "dict24 = {\"name\":\"Bob\",\"age\":22,\"city\":\"New York\"}\n",
        "del dict24[\"age\"]\n",
        "print(dict24)"
      ],
      "metadata": {
        "colab": {
          "base_uri": "https://localhost:8080/"
        },
        "id": "DmZdTq3O26nG",
        "outputId": "3fbd2b23-9d5f-4bf7-b611-fd9f1021938f"
      },
      "execution_count": 199,
      "outputs": [
        {
          "output_type": "stream",
          "name": "stdout",
          "text": [
            "{'name': 'Bob', 'city': 'New York'}\n"
          ]
        }
      ]
    },
    {
      "cell_type": "code",
      "source": [
        "#Question--25--> Write a code to check if the key \"city\" exists in the dictionary {'name': 'Alice', 'city': 'Paris'}.\n",
        "#Answer 25\n",
        "dict25 = {\"name\":\"Alice\",\"city\":\"Paris\"}\n",
        "to_check = \"city\"\n",
        "if to_check in dict25:\n",
        "  print(\"Yes it exists\")\n",
        "else:\n",
        "  print(\"No it doesnt exist\")"
      ],
      "metadata": {
        "colab": {
          "base_uri": "https://localhost:8080/"
        },
        "id": "6F4NDbvN3tn9",
        "outputId": "21e0ecff-0c60-4288-a9c7-9b5311d48a7a"
      },
      "execution_count": 200,
      "outputs": [
        {
          "output_type": "stream",
          "name": "stdout",
          "text": [
            "Yes it exists\n"
          ]
        }
      ]
    },
    {
      "cell_type": "code",
      "source": [
        "#Question--26-->>Write a code to create a list, a tuple, and a dictionary, and print them all.\n",
        "#Answer 25\n",
        "#List=\n",
        "listt = [\"mohit\",\"apple\",2,3.6,True]\n",
        "print(\"This is the List-\",listt)\n",
        "#Tuple\n",
        "tuplee = (\"almond\",\"kesar\",5,False,6+5j)\n",
        "print(\"This is the Tuple-\",tuplee)\n",
        "#Dictionary\n",
        "dictt = {\"name\":\"Suresh\",\"contact no\":[1234,54672],\"age\":32}\n",
        "print(\"This the dictionary-\",dictt)"
      ],
      "metadata": {
        "colab": {
          "base_uri": "https://localhost:8080/"
        },
        "id": "gwj2UFbd6n-s",
        "outputId": "2295ce48-ba72-42ed-b110-65c7e7d51242"
      },
      "execution_count": 201,
      "outputs": [
        {
          "output_type": "stream",
          "name": "stdout",
          "text": [
            "This is the List- ['mohit', 'apple', 2, 3.6, True]\n",
            "This is the Tuple- ('almond', 'kesar', 5, False, (6+5j))\n",
            "This the dictionary- {'name': 'Suresh', 'contact no': [1234, 54672], 'age': 32}\n"
          ]
        }
      ]
    },
    {
      "cell_type": "code",
      "source": [
        "#Question--27-->Write a code to create a list of 5 random numbers between 1 and 100, sort it in ascending order,\n",
        "#  and print the result.(replaced)\n",
        "#Answer-27\n",
        "list27 = [34,56,93,67,19]\n",
        "list27.sort()\n",
        "print(\"Digits in Ascending Order-\",list27)"
      ],
      "metadata": {
        "colab": {
          "base_uri": "https://localhost:8080/"
        },
        "id": "7YqtAy4d4n9Z",
        "outputId": "94209891-5b4a-41c6-d487-7c20886c38cb"
      },
      "execution_count": 202,
      "outputs": [
        {
          "output_type": "stream",
          "name": "stdout",
          "text": [
            "Digits in Ascending Order- [19, 34, 56, 67, 93]\n"
          ]
        }
      ]
    },
    {
      "cell_type": "code",
      "source": [
        "#Question--28-->Write a code to create a list with strings and print the element at the third index.\n",
        "#Answer 28\n",
        "#String at third index\n",
        "list28 = [23,2.4,9,1,7]\n",
        "#Here 3rd index gives 1\n",
        "list28.insert(3,\"Hello Ji\")\n",
        "print(list28)"
      ],
      "metadata": {
        "colab": {
          "base_uri": "https://localhost:8080/"
        },
        "id": "0SSUBFD1-919",
        "outputId": "06cbfb3c-30ec-48c8-cb22-fd48662838b4"
      },
      "execution_count": 203,
      "outputs": [
        {
          "output_type": "stream",
          "name": "stdout",
          "text": [
            "[23, 2.4, 9, 'Hello Ji', 1, 7]\n"
          ]
        }
      ]
    },
    {
      "cell_type": "code",
      "source": [
        "#Question -29-->> Write a code to combine two dictionaries into one and print the result.\n",
        "#Answer-29-\n",
        "dict1={\"a\":1,\"b\":2,\"c\":3}\n",
        "dict2={\"name\":\"a1\",\"location\":\"hgftdyu\",\"age\":31}\n",
        "dict1.update(dict2)\n",
        "print(\"updated or combined dictionary-\",dict1)"
      ],
      "metadata": {
        "colab": {
          "base_uri": "https://localhost:8080/"
        },
        "id": "ZUuLfMsqBBvu",
        "outputId": "5f8b8e87-909f-4e2e-e907-77769bd17036"
      },
      "execution_count": 204,
      "outputs": [
        {
          "output_type": "stream",
          "name": "stdout",
          "text": [
            "updated or combined dictionary- {'a': 1, 'b': 2, 'c': 3, 'name': 'a1', 'location': 'hgftdyu', 'age': 31}\n"
          ]
        }
      ]
    },
    {
      "cell_type": "code",
      "source": [
        "#Question-30-->>Write a code to convert a list of strings into a set.\n",
        "#Answer-30\n",
        "list30 = [\"grapes\",\"brinjal\",\"orange\",\"guava\",\"heart\",\"pwskills\",\"Sameer Srivastava\"]\n",
        "print(set(list30))\n",
        "#List has typecasted into an unordered Set.\n"
      ],
      "metadata": {
        "colab": {
          "base_uri": "https://localhost:8080/"
        },
        "id": "8rhbwoYxCY_6",
        "outputId": "1403091b-606a-4b23-a57a-48a9f54edd4e"
      },
      "execution_count": 205,
      "outputs": [
        {
          "output_type": "stream",
          "name": "stdout",
          "text": [
            "{'brinjal', 'guava', 'grapes', 'Sameer Srivastava', 'pwskills', 'heart', 'orange'}\n"
          ]
        }
      ]
    },
    {
      "cell_type": "code",
      "source": [],
      "metadata": {
        "id": "y_ZkF94_DUOA"
      },
      "execution_count": 205,
      "outputs": []
    }
  ]
}